{
 "cells": [
  {
   "cell_type": "code",
   "execution_count": 3,
   "id": "09cd03f1-7f14-497b-becc-58aa6209d842",
   "metadata": {},
   "outputs": [
    {
     "name": "stdout",
     "output_type": "stream",
     "text": [
      "['Barack Obama', 'Donald Trump', 'George W Bush']\n",
      "[0, 1, 2]\n",
      "{'Barack Obama': 0, 'Donald Trump': 1, 'George W Bush': 2}\n"
     ]
    }
   ],
   "source": [
    "import os\n",
    "\n",
    "data_path=\"train_data\" # Folder path where your training data is stored\n",
    "labels=sorted(os.listdir(data_path))    # Get all file/folder names inside 'train_data'\n",
    "print(labels)\n",
    "categories=list(range(len(labels))) # Create a NumPy array [0, 1, 2, ..., N-1]\n",
    "print(categories)\n",
    "categories_dict=dict(zip(labels,categories))  # Map each label name to a category number\n",
    "print(categories_dict)"
   ]
  },
  {
   "cell_type": "code",
   "execution_count": null,
   "id": "b63b4dac-a97d-4c95-aa94-dd3ed11591a3",
   "metadata": {},
   "outputs": [
    {
     "name": "stdout",
     "output_type": "stream",
     "text": [
      "============================================================================================================================= train_data\\Barack Obama\n"
     ]
    }
   ],
   "source": [
    "#Data Preprocess\n",
    "import cv2\n",
    "for label in labels:\n",
    "    imgs_path=os.path.join(data_path,label)\n",
    "    img_names=os.listdir(imgs_path)\n",
    "    \n",
    "    print(\"=============================================================================================================================\",imgs_path)\n",
    "\n",
    "    for img_name in img_names:\n",
    "        img_path=os.path.join(imgs_path,img_name)\n",
    "        img=cv2.imread(img_path)\n",
    "\n",
    "        cv2.imshow('LIVE', img)\n",
    "        cv2.waitKey(1000)"
   ]
  },
  {
   "cell_type": "code",
   "execution_count": null,
   "id": "b2bee6d7-5340-483f-b02a-9b29157afcd9",
   "metadata": {},
   "outputs": [],
   "source": []
  }
 ],
 "metadata": {
  "kernelspec": {
   "display_name": "Python 3 (ipykernel)",
   "language": "python",
   "name": "python3"
  },
  "language_info": {
   "codemirror_mode": {
    "name": "ipython",
    "version": 3
   },
   "file_extension": ".py",
   "mimetype": "text/x-python",
   "name": "python",
   "nbconvert_exporter": "python",
   "pygments_lexer": "ipython3",
   "version": "3.13.5"
  }
 },
 "nbformat": 4,
 "nbformat_minor": 5
}
