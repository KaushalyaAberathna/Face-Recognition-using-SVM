{
 "cells": [
  {
   "cell_type": "code",
   "execution_count": 1,
   "id": "09cd03f1-7f14-497b-becc-58aa6209d842",
   "metadata": {},
   "outputs": [
    {
     "name": "stdout",
     "output_type": "stream",
     "text": [
      "['Barack Obama', 'Donald Trump', 'George W Bush']\n",
      "[0 1 2]\n",
      "{'Barack Obama': np.int64(0), 'Donald Trump': np.int64(1), 'George W Bush': np.int64(2)}\n"
     ]
    }
   ],
   "source": [
    "import os\n",
    "import numpy as np\n",
    "\n",
    "data_path=\"train_data\" # Folder path where your training data is stored\n",
    "labels=os.listdir(data_path)    # Get all file/folder names inside 'train_data'\n",
    "print(labels)\n",
    "categories=np.arange(len(labels)) # Create a NumPy array [0, 1, 2, ..., N-1]\n",
    "print(categories)\n",
    "categories_dict=dict(zip(labels,categories))  # Map each label name to a category number\n",
    "print(categories_dict)"
   ]
  },
  {
   "cell_type": "code",
   "execution_count": 2,
   "id": "b63b4dac-a97d-4c95-aa94-dd3ed11591a3",
   "metadata": {},
   "outputs": [
    {
     "name": "stdout",
     "output_type": "stream",
     "text": [
      "train_data\\Barack Obama\n"
     ]
    },
    {
     "ename": "KeyboardInterrupt",
     "evalue": "",
     "output_type": "error",
     "traceback": [
      "\u001b[1;31m---------------------------------------------------------------------------\u001b[0m",
      "\u001b[1;31mKeyboardInterrupt\u001b[0m                         Traceback (most recent call last)",
      "Cell \u001b[1;32mIn[2], line 33\u001b[0m\n\u001b[0;32m     29\u001b[0m     cropped_face\u001b[38;5;241m=\u001b[39mgray[y:y\u001b[38;5;241m+\u001b[39mh,x:x\u001b[38;5;241m+\u001b[39mw]\n\u001b[0;32m     32\u001b[0m     cv2\u001b[38;5;241m.\u001b[39mimshow(\u001b[38;5;124m'\u001b[39m\u001b[38;5;124mLIVE\u001b[39m\u001b[38;5;124m'\u001b[39m, cropped_face)\n\u001b[1;32m---> 33\u001b[0m     k\u001b[38;5;241m=\u001b[39mcv2\u001b[38;5;241m.\u001b[39mwaitKey(\u001b[38;5;241m0\u001b[39m)\n\u001b[0;32m     35\u001b[0m \u001b[38;5;28;01mif\u001b[39;00m (k\u001b[38;5;241m==\u001b[39m\u001b[38;5;241m121\u001b[39m): \u001b[38;5;66;03m#check y\u001b[39;00m\n\u001b[0;32m     36\u001b[0m       cropped_face\u001b[38;5;241m=\u001b[39mcv2\u001b[38;5;241m.\u001b[39mresize(cropped_face,(img_size,img_size))\n",
      "\u001b[1;31mKeyboardInterrupt\u001b[0m: "
     ]
    }
   ],
   "source": [
    "#Data Preprocess\n",
    "import cv2\n",
    "\n",
    "\n",
    "face_classifier=cv2.CascadeClassifier('haarcascade_frontalface_default.xml')\n",
    "data=[]\n",
    "target=[]\n",
    "\n",
    "img_size=50\n",
    "\n",
    "for label in labels:\n",
    "    imgs_path=os.path.join(data_path,label)\n",
    "    img_names=os.listdir(imgs_path)\n",
    "    \n",
    "    print(imgs_path)\n",
    "\n",
    "    for img_name in img_names:\n",
    "        \n",
    "        img_path=os.path.join(imgs_path,img_name)\n",
    "        img=cv2.imread(img_path)\n",
    "\n",
    "        gray=cv2.cvtColor(img,cv2.COLOR_BGR2GRAY)\n",
    "        \n",
    "        faces=face_classifier.detectMultiScale(gray,1.3,5)\n",
    "\n",
    "        for (x,y,w,h) in faces:\n",
    "            \n",
    "            #v2.rectangle(img,(x,y),(x+w,y+h),(0,255,0),2)\n",
    "            cropped_face=gray[y:y+h,x:x+w]\n",
    "            \n",
    "\n",
    "            cv2.imshow('LIVE', cropped_face)\n",
    "            k=cv2.waitKey(0)\n",
    "\n",
    "        if (k==121): #check y\n",
    "              cropped_face=cv2.resize(cropped_face,(img_size,img_size))\n",
    "\n",
    "              data.append(cropped_face)\n",
    "              target.append(categories_dict[label])\n",
    "            \n",
    "\n",
    "        if (k==27):\n",
    "            break\n",
    "cv2.destroyAllWindows()"
   ]
  },
  {
   "cell_type": "code",
   "execution_count": null,
   "id": "b2bee6d7-5340-483f-b02a-9b29157afcd9",
   "metadata": {},
   "outputs": [],
   "source": []
  }
 ],
 "metadata": {
  "kernelspec": {
   "display_name": "Python 3 (ipykernel)",
   "language": "python",
   "name": "python3"
  },
  "language_info": {
   "codemirror_mode": {
    "name": "ipython",
    "version": 3
   },
   "file_extension": ".py",
   "mimetype": "text/x-python",
   "name": "python",
   "nbconvert_exporter": "python",
   "pygments_lexer": "ipython3",
   "version": "3.13.5"
  }
 },
 "nbformat": 4,
 "nbformat_minor": 5
}
